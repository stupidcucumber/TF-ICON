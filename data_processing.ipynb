{
 "cells": [
  {
   "cell_type": "code",
   "execution_count": 1,
   "metadata": {},
   "outputs": [],
   "source": [
    "import cv2\n",
    "import matplotlib.pyplot as plt\n",
    "import numpy as np\n",
    "import os"
   ]
  },
  {
   "cell_type": "markdown",
   "metadata": {},
   "source": [
    "# Defining useful functions"
   ]
  },
  {
   "cell_type": "code",
   "execution_count": 2,
   "metadata": {},
   "outputs": [],
   "source": [
    "def binarize_image(path: str) -> cv2.Mat:\n",
    "    image = cv2.imread(path)\n",
    "    image = cv2.cvtColor(image, code=cv2.COLOR_BGR2GRAY)\n",
    "    _, thresh = cv2.threshold(image, 1, 255, cv2.THRESH_BINARY)\n",
    "\n",
    "    return thresh\n",
    "\n",
    "\n",
    "def generate_background(image_path: str, output_path: str):\n",
    "    image = cv2.imread(image_path)\n",
    "    image = cv2.resize(image, dsize=(512, 512))\n",
    "    \n",
    "    cv2.imwrite(os.path.join(output_path, 'bg01.png'), image)\n",
    "    bboxes = []\n",
    "\n",
    "    index = 0\n",
    "    while True:\n",
    "        x, y, w, h = cv2.selectROI('Selecting bounding box', image)\n",
    "        image = cv2.rectangle(image, pt1=[x, y], pt2=[x+w, y+h], color=(0, 255, 0), thickness=2)\n",
    "\n",
    "        mask_bg = np.zeros(shape=(512, 512))\n",
    "        mask_bg[y:y+h, x:x+w] = 255\n",
    "\n",
    "        cv2.imwrite(os.path.join(output_path, 'mask_bg_fg_%d.png' % index), mask_bg)\n",
    "        index += 1\n",
    "        bboxes.append([x, y, w, h])\n",
    "\n",
    "        if cv2.waitKey(0) == ord('q'):\n",
    "            print('Done.')\n",
    "            cv2.destroyAllWindows()\n",
    "            break\n",
    "\n",
    "    return bboxes"
   ]
  },
  {
   "cell_type": "markdown",
   "metadata": {},
   "source": [
    "# Using"
   ]
  },
  {
   "cell_type": "code",
   "execution_count": 3,
   "metadata": {},
   "outputs": [
    {
     "name": "stdout",
     "output_type": "stream",
     "text": [
      "Select a ROI and then press SPACE or ENTER button!\n",
      "Cancel the selection process by pressing c button!\n",
      "Select a ROI and then press SPACE or ENTER button!\n",
      "Cancel the selection process by pressing c button!\n",
      "Select a ROI and then press SPACE or ENTER button!\n",
      "Cancel the selection process by pressing c button!\n",
      "Select a ROI and then press SPACE or ENTER button!\n",
      "Cancel the selection process by pressing c button!\n"
     ]
    }
   ],
   "source": [
    "output_path = os.path.join('inputs', 'same_domain', 'tomato on a tomato plant, view from side, ultra-realistic')\n",
    "generate_background(\n",
    "    image_path='inputs/same_domain/tomato on a tomato plant, view from side, ultra-realistic/eyJlZGl0cyI6eyJyZXNpemUiOnsid2lkdGgiOjUwMCwiaGVpZ2h0IjoyODF9fSwiYnVja2V0IjoiZmluZWdhcmRlbmluZy5zMy50YXVudG9uY2xvdWQuY29tIiwia2V5IjoiYXBwXC91cGxvYWRzXC92Zy1taWdyYXRpb25cLzIwMTFcLzAyXC8yNzIzNTQyNlwvVkdfdG9tcy5qcGcifQ==-2-2.png',\n",
    "    output_path=output_path\n",
    ")"
   ]
  },
  {
   "cell_type": "code",
   "execution_count": null,
   "metadata": {},
   "outputs": [],
   "source": []
  }
 ],
 "metadata": {
  "kernelspec": {
   "display_name": "base",
   "language": "python",
   "name": "python3"
  },
  "language_info": {
   "codemirror_mode": {
    "name": "ipython",
    "version": 3
   },
   "file_extension": ".py",
   "mimetype": "text/x-python",
   "name": "python",
   "nbconvert_exporter": "python",
   "pygments_lexer": "ipython3",
   "version": "3.9.16"
  }
 },
 "nbformat": 4,
 "nbformat_minor": 2
}
