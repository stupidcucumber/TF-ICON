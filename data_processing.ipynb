{
 "cells": [
  {
   "cell_type": "code",
   "execution_count": 1,
   "metadata": {},
   "outputs": [],
   "source": [
    "import cv2\n",
    "import matplotlib.pyplot as plt\n",
    "import numpy as np\n",
    "import os"
   ]
  },
  {
   "cell_type": "markdown",
   "metadata": {},
   "source": [
    "# Defining useful functions"
   ]
  },
  {
   "cell_type": "code",
   "execution_count": 2,
   "metadata": {},
   "outputs": [],
   "source": [
    "def binarize_image(path: str) -> cv2.Mat:\n",
    "    image = cv2.imread(path)\n",
    "    image = cv2.cvtColor(image, code=cv2.COLOR_BGR2GRAY)\n",
    "    _, thresh = cv2.threshold(image, 1, 255, cv2.THRESH_BINARY)\n",
    "\n",
    "    return thresh\n",
    "\n",
    "\n",
    "def generate_background(image_path: str, output_path: str):\n",
    "    image = cv2.imread(image_path)\n",
    "    image = cv2.resize(image, dsize=(512, 512))\n",
    "\n",
    "    cv2.imwrite(os.path.join(output_path, 'bg01.png'), image)\n",
    "    x, y, w, h = cv2.selectROI('Selecting bounding box', image)\n",
    "    \n",
    "    mask_bg = np.zeros(shape=(512, 512))\n",
    "    mask_bg[y:y+h, x:x+w] = 255\n",
    "\n",
    "    cv2.imwrite(os.path.join(output_path, 'mask_bg_fg.png'), mask_bg)\n",
    "\n",
    "    return (x, y, w, h)"
   ]
  },
  {
   "cell_type": "markdown",
   "metadata": {},
   "source": [
    "# Using"
   ]
  },
  {
   "cell_type": "code",
   "execution_count": 5,
   "metadata": {},
   "outputs": [
    {
     "name": "stdout",
     "output_type": "stream",
     "text": [
      "Select a ROI and then press SPACE or ENTER button!\n",
      "Cancel the selection process by pressing c button!\n"
     ]
    },
    {
     "data": {
      "text/plain": [
       "(325, 199, 54, 55)"
      ]
     },
     "execution_count": 5,
     "metadata": {},
     "output_type": "execute_result"
    }
   ],
   "source": [
    "image_path = os.path.join('inputs', 'same_domain', 'a tomato on a tomato plant, ultra realistic')\n",
    "generate_background(\n",
    "    image_path='inputs/same_domain/a tomato on a tomato plant, ultra realistic/bg01.png',\n",
    "    output_path=image_path\n",
    ")"
   ]
  },
  {
   "cell_type": "code",
   "execution_count": null,
   "metadata": {},
   "outputs": [],
   "source": []
  }
 ],
 "metadata": {
  "kernelspec": {
   "display_name": "base",
   "language": "python",
   "name": "python3"
  },
  "language_info": {
   "codemirror_mode": {
    "name": "ipython",
    "version": 3
   },
   "file_extension": ".py",
   "mimetype": "text/x-python",
   "name": "python",
   "nbconvert_exporter": "python",
   "pygments_lexer": "ipython3",
   "version": "3.9.16"
  }
 },
 "nbformat": 4,
 "nbformat_minor": 2
}
